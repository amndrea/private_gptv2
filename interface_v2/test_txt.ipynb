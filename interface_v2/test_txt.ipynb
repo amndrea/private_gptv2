{
 "cells": [
  {
   "cell_type": "code",
   "execution_count": null,
   "id": "initial_id",
   "metadata": {
    "collapsed": true,
    "is_executing": true,
    "ExecuteTime": {
     "start_time": "2024-01-11T16:48:15.316432652Z"
    }
   },
   "outputs": [],
   "source": [
    "import aspose.words as aw\n",
    "\n",
    "# Carica file PDF\n",
    "pdf = aw.Document(\"/home/gcouser/Scrivania/v1000.pdf\")\n",
    "\n",
    "# Estrai e salva il testo in un file TXT\n",
    "pdf.save(\"extracted-text.txt\")\n"
   ]
  },
  {
   "cell_type": "code",
   "outputs": [],
   "source": [],
   "metadata": {
    "collapsed": false
   },
   "id": "21ff2571fb9356f3"
  }
 ],
 "metadata": {
  "kernelspec": {
   "display_name": "Python 3",
   "language": "python",
   "name": "python3"
  },
  "language_info": {
   "codemirror_mode": {
    "name": "ipython",
    "version": 2
   },
   "file_extension": ".py",
   "mimetype": "text/x-python",
   "name": "python",
   "nbconvert_exporter": "python",
   "pygments_lexer": "ipython2",
   "version": "2.7.6"
  }
 },
 "nbformat": 4,
 "nbformat_minor": 5
}
