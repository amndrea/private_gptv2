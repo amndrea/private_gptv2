{
 "cells": [
  {
   "cell_type": "code",
   "execution_count": 14,
   "id": "initial_id",
   "metadata": {
    "collapsed": true,
    "ExecuteTime": {
     "end_time": "2024-01-22T15:15:32.081310115Z",
     "start_time": "2024-01-22T15:15:32.018591814Z"
    }
   },
   "outputs": [
    {
     "name": "stdout",
     "output_type": "stream",
     "text": [
      "sono il tipo del file\n",
      "CSV text\n",
      "csv\n"
     ]
    }
   ],
   "source": [
    "import csv\n",
    "import magic\n",
    "import os\n",
    "\n",
    "def supported_format_file(file_path):\n",
    "    mime = magic.Magic()\n",
    "    file_type = mime.from_file(file_path)\n",
    "    print(\"sono il tipo del file\")\n",
    "    print(file_type)\n",
    "\n",
    "    if file_type == \"ASCII text\" or \"Unicode text\" in file_type or \"UTF-8 text\" in file_type:\n",
    "        return 'text'\n",
    "    if file_type == \"OpenDocument Text\":\n",
    "        return 'opendocument'\n",
    "    if file_type.startswith(\"Microsoft Word\"):\n",
    "        return 'word'\n",
    "    if file_type == \"OpenDocument Spreadsheet\":\n",
    "        return 'openspreadsheet'\n",
    "    if file_type.startswith(\"Microsoft Excel\"):\n",
    "        return 'excel'\n",
    "    if file_type.startswith(\"PDF document\"):\n",
    "        return 'pdf'\n",
    "    if \"CSV\" in file_type:\n",
    "        return 'csv'\n",
    "    return '1'\n",
    "\n",
    "\n",
    "\n",
    "def leggi_file_csv_con_intestazione(percorso_file_csv):\n",
    "    dati = []\n",
    "\n",
    "    with open(percorso_file_csv, mode='r', encoding='utf-8', errors='replace') as file_csv:\n",
    "        lettore_csv = csv.reader(file_csv)\n",
    "\n",
    "        # Leggi la prima riga come intestazione\n",
    "        intestazione = next(lettore_csv)\n",
    "\n",
    "        # Itera attraverso le righe rimanenti\n",
    "        for riga in lettore_csv:\n",
    "            # Crea un dizionario associando i valori alle colonne dell'intestazione\n",
    "            riga_associata = dict(zip(intestazione, riga))\n",
    "            dati.append(riga_associata)\n",
    "    file_testuale = str(percorso_file_csv)+\".txt\"\n",
    "    with open(file_testuale, mode='w') as file_txx:\n",
    "        for dato in dati:\n",
    "            file_txx.write(str(dato))\n",
    "            file_txx.write('\\n')\n",
    "    \n",
    "\n",
    "file_name = \"google_user_access.csv\"\n",
    "#file_name = 'file_exel.xlsx'\n",
    "\n",
    "\n",
    "dir = os.getcwd()\n",
    "dir = dir.replace('gestione', '')\n",
    "dir = dir+'file/'\n",
    "os.makedirs(dir, exist_ok=True)\n",
    "file_path = os.path.join(dir, file_name)\n",
    "\n",
    "tipo_di_file = (supported_format_file(file_path))\n",
    "print(tipo_di_file)\n",
    "\n",
    "leggi_file_csv_con_intestazione(file_path)"
   ]
  },
  {
   "cell_type": "code",
   "outputs": [
    {
     "name": "stdout",
     "output_type": "stream",
     "text": [
      "/home/gcouser/PycharmProjects/interface_v2/file/file_exel.xlsx\n",
      "sono il tipo del file\n",
      "Microsoft Excel 2007+\n",
      "excel\n"
     ]
    }
   ],
   "source": [
    "import pandas as pd\n",
    "import os\n",
    "import magic\n",
    "def supported_format_file(file_path):\n",
    "    mime = magic.Magic()\n",
    "    file_type = mime.from_file(file_path)\n",
    "    print(\"sono il tipo del file\")\n",
    "    print(file_type)\n",
    "\n",
    "    if file_type == \"ASCII text\" or \"Unicode text\" in file_type or \"UTF-8 text\" in file_type:\n",
    "        return 'text'\n",
    "    if file_type == \"OpenDocument Text\":\n",
    "        return 'opendocument'\n",
    "    if file_type.startswith(\"Microsoft Word\"):\n",
    "        return 'word'\n",
    "    if file_type == \"OpenDocument Spreadsheet\":\n",
    "        return 'openspreadsheet'\n",
    "    if file_type.startswith(\"Microsoft Excel\"):\n",
    "        return 'excel'\n",
    "    if file_type.startswith(\"PDF document\"):\n",
    "        return 'pdf'\n",
    "    if \"CSV\" in file_type:\n",
    "        return 'csv'\n",
    "    return '1'\n",
    "\n",
    "def leggi_file_excel_con_intestazione(percorso_file_excel, foglio=None):\n",
    "    dati = []\n",
    "    # Leggi il file Excel\n",
    "    df = pd.read_excel(percorso_file_excel)\n",
    "    \n",
    "    for index, row in df.iterrows():\n",
    "        for col_name, cell_value in row.items():\n",
    "            dato = str(col_name) + ' ' + str(cell_value) \n",
    "            dato = str(dato)\n",
    "            dati.append(dato)\n",
    "    return dati\n",
    "\n",
    "# Esempio di utilizzo\n",
    "\n",
    "\n",
    "file_name = \"file_exel.xlsx\"\n",
    "dir = os.getcwd()\n",
    "dir = dir.replace('gestione', '')\n",
    "dir = dir+'file/'\n",
    "os.makedirs(dir, exist_ok=True)\n",
    "file_path = os.path.join(dir, file_name)\n",
    "print(file_path)\n",
    "tipo_di_file = (supported_format_file(file_path))\n",
    "print(tipo_di_file)\n",
    "\n",
    "\n",
    "\n",
    "dati = leggi_file_excel_con_intestazione(file_path)\n",
    "dati = str(dati)\n",
    "with open('tmp_exel.txt', 'w') as file_testuale:\n",
    "    for dato in dati:\n",
    "        file_testuale.write(dato)\n",
    "        file_test\n",
    "\n",
    "    \n",
    "\n"
   ],
   "metadata": {
    "collapsed": false,
    "ExecuteTime": {
     "end_time": "2024-01-22T15:21:21.838336959Z",
     "start_time": "2024-01-22T15:21:21.793383122Z"
    }
   },
   "id": "cb06a3cf53d02b4e",
   "execution_count": 17
  }
 ],
 "metadata": {
  "kernelspec": {
   "display_name": "Python 3",
   "language": "python",
   "name": "python3"
  },
  "language_info": {
   "codemirror_mode": {
    "name": "ipython",
    "version": 2
   },
   "file_extension": ".py",
   "mimetype": "text/x-python",
   "name": "python",
   "nbconvert_exporter": "python",
   "pygments_lexer": "ipython2",
   "version": "2.7.6"
  }
 },
 "nbformat": 4,
 "nbformat_minor": 5
}
