{
 "cells": [
  {
   "cell_type": "code",
   "outputs": [
    {
     "name": "stdout",
     "output_type": "stream",
     "text": [
      "Conversione completata. Dati scritti in /home/gcouser/Scrivania/v1000_extract.txt\n"
     ]
    }
   ],
   "source": [
    "import openpyxl\n",
    "def convert_xls_to_txt(input_xls_path, output_txt_path):\n",
    "    try:\n",
    "        # Apri il file Excel\n",
    "        workbook = openpyxl.load_workbook(input_xls_path)\n",
    "        \n",
    "        # Scegli il foglio di lavoro (puoi specificare il nome del foglio)\n",
    "        sheet = workbook.active\n",
    "        \n",
    "        # Apri il file di testo in modalità scrittura\n",
    "        with open(output_txt_path, 'w', encoding='utf-8') as txt_file:\n",
    "            # Itera su ogni riga nel foglio di lavoro\n",
    "            for row in sheet.iter_rows(values_only=True):\n",
    "                # Scrivi la riga nel file di testo\n",
    "                row_values = ['' if value is None else str(value) for value in row]\n",
    "                # Scrivi la riga nel file di testo\n",
    "                txt_file.write('\\t'.join(row_values) + '\\n')\n",
    "        \n",
    "        print(f\"Conversione completata. Dati scritti in {output_txt_path}\")\n",
    "\n",
    "    except Exception as e:\n",
    "        print(f\"Si è verificato un errore: {e}\")\n",
    "\n",
    "# Specifica il percorso del tuo file XLS e il percorso del file di testo di output\n",
    "input_xls_path = \"/home/gcouser/Documenti/test.xlsx\"\n",
    "output_txt_path = \"/home/gcouser/Scrivania/v1000_extract.txt\"\n",
    "\n",
    "# Chiama la funzione\n",
    "convert_xls_to_txt(input_xls_path, output_txt_path)\n"
   ],
   "metadata": {
    "collapsed": false,
    "ExecuteTime": {
     "end_time": "2024-01-15T13:54:18.806410485Z",
     "start_time": "2024-01-15T13:54:18.640676168Z"
    }
   },
   "id": "a161f4b066f5cc68",
   "execution_count": 13
  },
  {
   "cell_type": "code",
   "outputs": [],
   "source": [
    "\n"
   ],
   "metadata": {
    "collapsed": false
   },
   "id": "341c1673e8837f61"
  }
 ],
 "metadata": {
  "kernelspec": {
   "display_name": "Python 3",
   "language": "python",
   "name": "python3"
  },
  "language_info": {
   "codemirror_mode": {
    "name": "ipython",
    "version": 2
   },
   "file_extension": ".py",
   "mimetype": "text/x-python",
   "name": "python",
   "nbconvert_exporter": "python",
   "pygments_lexer": "ipython2",
   "version": "2.7.6"
  }
 },
 "nbformat": 4,
 "nbformat_minor": 5
}
